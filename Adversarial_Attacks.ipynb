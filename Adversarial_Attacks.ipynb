{
  "nbformat": 4,
  "nbformat_minor": 0,
  "metadata": {
    "colab": {
      "provenance": [],
      "include_colab_link": true
    },
    "kernelspec": {
      "name": "python3",
      "display_name": "Python 3"
    },
    "language_info": {
      "name": "python"
    }
  },
  "cells": [
    {
      "cell_type": "markdown",
      "metadata": {
        "id": "view-in-github",
        "colab_type": "text"
      },
      "source": [
        "<a href=\"https://colab.research.google.com/github/piushag/591NR/blob/main/Adversarial_Attacks.ipynb\" target=\"_parent\"><img src=\"https://colab.research.google.com/assets/colab-badge.svg\" alt=\"Open In Colab\"/></a>"
      ]
    },
    {
      "cell_type": "code",
      "execution_count": null,
      "metadata": {
        "id": "zGfGKqSh1-ym"
      },
      "outputs": [],
      "source": [
        "import torch\n",
        "import torchvision\n",
        "from torch.utils.data import DataLoader\n",
        "import numpy as np\n",
        "import random\n",
        "import matplotlib.pyplot as plt"
      ]
    },
    {
      "cell_type": "code",
      "source": [
        "def move_image_right(image, num_pixels):\n",
        "    # Pad the left side of the image with zeros\n",
        "    pad = torch.zeros((3, num_pixels, 32))\n",
        "    padded_image = torch.cat((pad, image), dim=1)\n",
        "    # Crop the right side of the image to remove the padded pixels\n",
        "    cropped_image = padded_image[:, :32, :]\n",
        "    # Return the moved image\n",
        "    return cropped_image\n",
        "\n",
        "def move_image_left(image, num_pixels):\n",
        "    # Get the width of the image\n",
        "    width = image.shape[2]\n",
        "    # Create a tensor of zeros with the same dimensions as the original image\n",
        "    moved_image = torch.zeros_like(image)\n",
        "    # Copy the pixels from the original image to the moved image with a leftward shift\n",
        "    moved_image[:, :, :width-num_pixels] = image[:, :, num_pixels:]\n",
        "    # Return the moved image\n",
        "    return moved_image\n",
        "\n",
        "def move_image_up(image, num_pixels):\n",
        "    # Get the height of the image\n",
        "    height = image.shape[1]\n",
        "    # Create a tensor of zeros with the same dimensions as the original image\n",
        "    moved_image = torch.zeros_like(image)\n",
        "    # Copy the pixels from the original image to the moved image with an upward shift\n",
        "    moved_image[:, :height-num_pixels, :] = image[:, num_pixels:, :]\n",
        "    # Return the moved image\n",
        "    return moved_image\n",
        "\n",
        "\n",
        "def get_right_diff_channel(image):\n",
        "    right_image = move_image_right(image,3)\n",
        "    return torch.mean((image-right_image), dim=0, keepdim=True)\n",
        "\n",
        "def get_left_diff_channel(image):\n",
        "    left_image = move_image_left(image,3)\n",
        "    return torch.mean((image-left_image), dim=0, keepdim=True)\n",
        "\n",
        "def get_up_diff_channel(image):\n",
        "    up_image = move_image_up(image,3)\n",
        "    return torch.mean((image-up_image), dim=0, keepdim=True)\n",
        "\n",
        "class AddNewChannels:\n",
        "    \"\"\"Add a fourth channel to the CIFAR-10 images with all zero values.\"\"\"\n",
        "    def __call__(self, img):\n",
        "        return torch.cat((img, get_right_diff_channel(img), get_left_diff_channel(img), get_up_diff_channel(img)), dim=0)\n"
      ],
      "metadata": {
        "id": "V1rp1ttK2OJb"
      },
      "execution_count": null,
      "outputs": []
    },
    {
      "cell_type": "code",
      "source": [
        "import torch\n",
        "import torchvision\n",
        "import torchvision.transforms as transforms\n",
        "from torch.utils.data import DataLoader\n",
        "from torchvision.datasets import CIFAR10\n",
        "\n",
        "transform_train = transforms.Compose([\n",
        "    transforms.RandomCrop(32, padding=4),\n",
        "    transforms.RandomHorizontalFlip(),\n",
        "    transforms.ToTensor(),\n",
        "    AddNewChannels(),\n",
        "    transforms.Normalize(mean=[0.5, 0.5, 0.5, 0.5, 0.5, 0.5], std=[0.5, 0.5, 0.5, 0.5, 0.5, 0.5])\n",
        "])\n",
        "\n",
        "# Define the transformations to be applied to the data\n",
        "transform_test = transforms.Compose([\n",
        "    transforms.ToTensor(),\n",
        "    AddNewChannels(),\n",
        "    transforms.Normalize(mean=[0.5, 0.5, 0.5, 0.5, 0.5, 0.5], std=[0.5, 0.5, 0.5, 0.5, 0.5, 0.5])\n",
        "])\n",
        "\n",
        "# Load the CIFAR-10 dataset\n",
        "trainset = CIFAR10(root='./data', train=True, download=True, transform=transform_train)\n",
        "trainloader = DataLoader(trainset, batch_size=128, shuffle=True, num_workers=2)\n",
        "testset = CIFAR10(root='./data', train=False, download=True, transform=transform_test)\n",
        "testloader = DataLoader(testset, batch_size=128, shuffle=False, num_workers=2)\n",
        "\n",
        "# Load a pre-trained SqueezeNet model\n",
        "net = torchvision.models.squeezenet1_1()\n",
        "\n",
        "# Modify the first convolutional layer to accept 6 channels\n",
        "net.features[0] = torch.nn.Conv2d(6, 64, kernel_size=3, stride=2)\n",
        "\n",
        "# Train the model\n",
        "criterion = torch.nn.CrossEntropyLoss()\n",
        "optimizer = torch.optim.Adam(net.parameters(), lr=0.001)\n",
        "\n",
        "for epoch in range(10):  # loop over the dataset multiple times\n",
        "    running_loss = 0.0\n",
        "    for i, data in enumerate(trainloader, 0):\n",
        "        inputs, labels = data\n",
        "        optimizer.zero_grad()\n",
        "        outputs = net(inputs)\n",
        "        loss = criterion(outputs, labels)\n",
        "        loss.backward()\n",
        "        optimizer.step()\n",
        "\n",
        "        running_loss += loss.item()\n",
        "        if i % 100 == 99:    # print every 100 mini-batches\n",
        "            print('[%d, %5d] loss: %.3f' %\n",
        "                  (epoch + 1, i + 1, running_loss / 100))\n",
        "            running_loss = 0.0\n",
        "\n",
        "print('Finished Training')\n",
        "\n",
        "# Evaluate the model\n",
        "correct = 0\n",
        "total = 0\n",
        "with torch.no_grad():\n",
        "    for data in testloader:\n",
        "        images, labels = data\n",
        "        outputs = net(images)\n",
        "        _, predicted = torch.max(outputs.data, 1)\n",
        "        total += labels.size(0)\n",
        "        correct += (predicted == labels).sum().item()\n",
        "\n",
        "print('Accuracy of the pre-trained SqueezeNet on the 10000 test images: %d %%' % (100 * correct / total))\n"
      ],
      "metadata": {
        "colab": {
          "base_uri": "https://localhost:8080/"
        },
        "id": "y5z3S6It78Xu",
        "outputId": "4f43f179-df39-40e7-ac51-5f8f36836255"
      },
      "execution_count": null,
      "outputs": [
        {
          "output_type": "stream",
          "name": "stdout",
          "text": [
            "Files already downloaded and verified\n",
            "Files already downloaded and verified\n",
            "[1,   100] loss: 3.844\n",
            "[1,   200] loss: 3.452\n",
            "[1,   300] loss: 3.255\n",
            "[2,   100] loss: 3.225\n",
            "[2,   200] loss: 3.135\n",
            "[2,   300] loss: 3.104\n",
            "[3,   100] loss: 3.029\n",
            "[3,   200] loss: 2.927\n",
            "[3,   300] loss: 3.012\n",
            "[4,   100] loss: 2.961\n",
            "[4,   200] loss: 2.887\n",
            "[4,   300] loss: 2.851\n",
            "[5,   100] loss: 2.831\n",
            "[5,   200] loss: 2.822\n",
            "[5,   300] loss: 2.783\n",
            "[6,   100] loss: 2.789\n",
            "[6,   200] loss: 2.732\n",
            "[6,   300] loss: 2.728\n",
            "[7,   100] loss: 2.729\n",
            "[7,   200] loss: 2.681\n",
            "[7,   300] loss: 2.711\n",
            "[8,   100] loss: 2.638\n",
            "[8,   200] loss: 2.640\n",
            "[8,   300] loss: 2.622\n",
            "[9,   100] loss: 2.612\n",
            "[9,   200] loss: 2.586\n",
            "[9,   300] loss: 2.598\n",
            "[10,   100] loss: 2.558\n",
            "[10,   200] loss: 2.626\n",
            "[10,   300] loss: 2.561\n",
            "Finished Training\n",
            "Accuracy of the pre-trained SqueezeNet on the 10000 test images: 50 %\n"
          ]
        }
      ]
    },
    {
      "cell_type": "code",
      "source": [
        "# Define the adversarial attack\n",
        "def fgsm_attack(image, epsilon, data_grad):\n",
        "    # Calculate the sign of the gradient\n",
        "    sign_data_grad = data_grad.sign()\n",
        "    # Create the perturbed image by adding the signed gradient to the original image\n",
        "    perturbed_image = image + epsilon * sign_data_grad\n",
        "    # Clip the perturbed image so that its pixel values are between 0 and 1\n",
        "    perturbed_image = torch.clamp(perturbed_image, 0, 1)\n",
        "    # Return the perturbed image\n",
        "    return perturbed_image"
      ],
      "metadata": {
        "id": "aoCW8KOLbGHb"
      },
      "execution_count": null,
      "outputs": []
    },
    {
      "cell_type": "code",
      "source": [
        "import torch.nn.functional as F\n",
        "\n",
        "# Generate adversarial examples for the test dataset using FGSM attack\n",
        "epsilon = 0.1\n",
        "correct = 0\n",
        "total = 0\n",
        "for data in testloader:\n",
        "    # Get the input image and label\n",
        "    images, labels = data\n",
        "    # Set requires_grad attribute of tensor to True, since we want to compute the gradient with respect to the input image\n",
        "    images.requires_grad = True\n",
        "    # Forward pass the input image through the model\n",
        "    outputs = net(images)\n",
        "    # Calculate the loss\n",
        "    loss = F.cross_entropy(outputs, labels)\n",
        "    # Zero out the gradients\n",
        "    net.zero_grad()\n",
        "    # Backward pass to compute the gradient\n",
        "    loss.backward()\n",
        "    # Get the gradient of the loss with respect to the input image\n",
        "    data_grad = images.grad.data\n",
        "    # Call the adversarial attack function to generate the perturbed image\n",
        "    perturbed_image = fgsm_attack(images, epsilon, data_grad)\n",
        "    outputs = net(perturbed_image)\n",
        "    # Get the predicted label for the perturbed image\n",
        "    _, predicted = torch.max(outputs.data, 1)\n",
        "    total += labels.size(0)\n",
        "    correct += (predicted == labels).sum().item()\n",
        "\n",
        "print('Adversarial accuracy of the pre-trained SqueezeNet on the 10000 test images: %d %%' % (100 * correct / total))"
      ],
      "metadata": {
        "colab": {
          "base_uri": "https://localhost:8080/"
        },
        "id": "f2Pvx8RAbhy2",
        "outputId": "6f3b7e46-b75a-4128-92a8-e162458e0783"
      },
      "execution_count": null,
      "outputs": [
        {
          "output_type": "stream",
          "name": "stdout",
          "text": [
            "Adversarial accuracy of the pre-trained SqueezeNet on the 10000 test images: 14 %\n"
          ]
        }
      ]
    },
    {
      "cell_type": "code",
      "source": [],
      "metadata": {
        "id": "FJkRRr9TLSDU"
      },
      "execution_count": null,
      "outputs": []
    }
  ]
}